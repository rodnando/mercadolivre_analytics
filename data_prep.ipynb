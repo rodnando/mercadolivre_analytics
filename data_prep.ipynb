{
 "cells": [
  {
   "cell_type": "code",
   "execution_count": 33,
   "metadata": {},
   "outputs": [],
   "source": [
    "import pandas as pd"
   ]
  },
  {
   "cell_type": "code",
   "execution_count": 34,
   "metadata": {},
   "outputs": [],
   "source": [
    "def trata_arquivo(nome):\n",
    "    # Faz a leitura do arquivo\n",
    "    df = pd.read_excel(f'raw_data/{nome}.xls', sheet_name='Data', skiprows=3)\n",
    "\n",
    "    # Seleciona apenas as colunas necessárias\n",
    "    df_filter = df[['Country Name', 'Country Code', 'Indicator Name', '2012', '2013', '2014', '2015', '2016', '2017', '2018', '2019', '2020', '2021', '2022']]\n",
    "\n",
    "    # Usa o método melt para transformar colunas de ano em linhas\n",
    "    df_melted = df_filter.melt(id_vars=['Country Name', 'Country Code', 'Indicator Name'], \n",
    "                            var_name='Year', \n",
    "                            value_name=f'{nome}_Value')\n",
    "\n",
    "    # Grava o novo DataFrame no formato CSV\n",
    "    print('Salvando o arquivo:', nome)\n",
    "    df_melted.to_csv(f'data/{nome}.csv', sep=',', index=False)"
   ]
  },
  {
   "cell_type": "code",
   "execution_count": 35,
   "metadata": {},
   "outputs": [],
   "source": [
    "# Definindo arquivos que serão tratados\n",
    "files = ['Fixed broadband subscriptions', 'Fixed telephone subscriptions', 'GDP', 'Individuals using the Internet', 'Secure Internet servers', 'Unemployment']"
   ]
  },
  {
   "cell_type": "code",
   "execution_count": 36,
   "metadata": {},
   "outputs": [
    {
     "name": "stdout",
     "output_type": "stream",
     "text": [
      "Salvando o arquivo: Fixed broadband subscriptions\n",
      "Salvando o arquivo: Fixed telephone subscriptions\n",
      "Salvando o arquivo: GDP\n",
      "Salvando o arquivo: Individuals using the Internet\n",
      "Salvando o arquivo: Secure Internet servers\n",
      "Salvando o arquivo: Unemployment\n"
     ]
    }
   ],
   "source": [
    "# Iterando sobre os arquivos, tratando-os e salvando-os como csv\n",
    "\n",
    "for file in files:\n",
    "    trata_arquivo(file)"
   ]
  }
 ],
 "metadata": {
  "kernelspec": {
   "display_name": "Python 3",
   "language": "python",
   "name": "python3"
  },
  "language_info": {
   "codemirror_mode": {
    "name": "ipython",
    "version": 3
   },
   "file_extension": ".py",
   "mimetype": "text/x-python",
   "name": "python",
   "nbconvert_exporter": "python",
   "pygments_lexer": "ipython3",
   "version": "3.11.5"
  }
 },
 "nbformat": 4,
 "nbformat_minor": 2
}
