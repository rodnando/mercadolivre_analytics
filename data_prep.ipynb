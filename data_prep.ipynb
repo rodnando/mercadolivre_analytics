{
 "cells": [
  {
   "cell_type": "code",
   "execution_count": 33,
   "metadata": {},
   "outputs": [],
   "source": [
    "import pandas as pd"
   ]
  },
  {
   "cell_type": "code",
   "execution_count": 40,
   "metadata": {},
   "outputs": [],
   "source": [
    "def trata_arquivo(nome):\n",
    "    # Faz a leitura do arquivo\n",
    "    df = pd.read_excel(f'raw_data/{nome}.xls', sheet_name='Data', skiprows=3)\n",
    "\n",
    "    # Seleciona apenas as colunas necessárias\n",
    "    df_filter = df[['Country Name', '2012', '2013', '2014', '2015', '2016', '2017', '2018', '2019', '2020', '2021', '2022']]\n",
    "\n",
    "    # Usa o método melt para transformar colunas de ano em linhas\n",
    "    df_melted = df_filter.melt(id_vars=['Country Name'], \n",
    "                            var_name='Year', \n",
    "                            value_name=f'{nome}')\n",
    "\n",
    "    return df_melted\n"
   ]
  },
  {
   "cell_type": "code",
   "execution_count": 41,
   "metadata": {},
   "outputs": [],
   "source": [
    "# Definindo arquivos que serão tratados\n",
    "files = ['Fixed broadband subscriptions', 'Fixed telephone subscriptions', 'GDP', 'Individuals using the Internet', 'Secure Internet servers', 'Unemployment']"
   ]
  },
  {
   "cell_type": "code",
   "execution_count": 42,
   "metadata": {},
   "outputs": [],
   "source": [
    "# Iterando sobre os arquivos e tratando-os\n",
    "\n",
    "df_final = pd.DataFrame()\n",
    "\n",
    "for file in files:\n",
    "    df = trata_arquivo(file)\n",
    "\n",
    "    if df_final.empty:\n",
    "        # Se df_final estiver vazio, inicializa com o primeiro DataFrame processado\n",
    "        df_final = df\n",
    "    else:\n",
    "        # Mesclar o DataFrame atual com o DataFrame final\n",
    "        df_final = pd.merge(df_final, df, on=['Country Name', 'Year'], how='outer')"
   ]
  },
  {
   "cell_type": "code",
   "execution_count": 44,
   "metadata": {},
   "outputs": [
    {
     "name": "stdout",
     "output_type": "stream",
     "text": [
      "Salvando o arquivo final...\n"
     ]
    }
   ],
   "source": [
    "# Grava o novo DataFrame no formato CSV\n",
    "print('Salvando o arquivo final...')\n",
    "df_final.to_csv(f'data/mercado_livre.csv', sep=',', index=False)"
   ]
  }
 ],
 "metadata": {
  "kernelspec": {
   "display_name": "Python 3",
   "language": "python",
   "name": "python3"
  },
  "language_info": {
   "codemirror_mode": {
    "name": "ipython",
    "version": 3
   },
   "file_extension": ".py",
   "mimetype": "text/x-python",
   "name": "python",
   "nbconvert_exporter": "python",
   "pygments_lexer": "ipython3",
   "version": "3.11.5"
  }
 },
 "nbformat": 4,
 "nbformat_minor": 2
}
