{
 "cells": [
  {
   "cell_type": "markdown",
   "metadata": {},
   "source": [
    "**Fontes**\n",
    "\n",
    "Unemployment, total (% of total labor force): https://data.worldbank.org/indicator/SL.UEM.TOTL.ZS?_gl=1%2A80nihh%2A_gcl_au%2AMTAyMTg2OTQwLjE3MjQwMTYwMDM.&end=2022&locations=AR&start=1960&view=chart\n",
    "\n",
    "\n",
    "Fixed broadband subscriptions (per 100 people): https://data.worldbank.org/indicator/IT.NET.BBND.P2?_gl=1%2A80nihh%2A_gcl_au%2AMTAyMTg2OTQwLjE3MjQwMTYwMDM.&end=2022&locations=AR&start=1960&view=chart\n",
    "\n",
    "\n",
    "Fixed telephone subscriptions: https://data.worldbank.org/indicator/IT.MLT.MAIN?_gl=1%2A80nihh%2A_gcl_au%2AMTAyMTg2OTQwLjE3MjQwMTYwMDM.&end=2022&locations=AR&start=1960&view=chart\n",
    "\n",
    "\n",
    "GDP: https://data.worldbank.org/indicator/NY.GDP.MKTP.CD?_gl=1%2A80nihh%2A_gcl_au%2AMTAyMTg2OTQwLjE3MjQwMTYwMDM.&end=2022&locations=AR&start=1960&view=chart\n",
    "\n",
    "\n",
    "Individuals using the Internet (% of population): https://data.worldbank.org/indicator/IT.NET.USER.ZS?_gl=1%2A80nihh%2A_gcl_au%2AMTAyMTg2OTQwLjE3MjQwMTYwMDM.&end=2022&locations=AR&start=1960&view=chart"
   ]
  },
  {
   "cell_type": "code",
   "execution_count": 59,
   "metadata": {},
   "outputs": [],
   "source": [
    "import pandas as pd"
   ]
  },
  {
   "cell_type": "code",
   "execution_count": 60,
   "metadata": {},
   "outputs": [],
   "source": [
    "def trata_arquivo(nome):\n",
    "    # Faz a leitura do arquivo\n",
    "    df = pd.read_excel(f'raw_data/{nome}.xls', sheet_name='Data', skiprows=3)\n",
    "\n",
    "    # Seleciona apenas as colunas necessárias\n",
    "    df_filter = df[['Country Name', '2012', '2013', '2014', '2015', '2016', '2017', '2018', '2019', '2020', '2021', '2022']]\n",
    "\n",
    "    # Usa o método melt para transformar colunas de ano em linhas\n",
    "    df_melted = df_filter.melt(id_vars=['Country Name'], \n",
    "                            var_name='Year', \n",
    "                            value_name=f'{nome}')\n",
    "\n",
    "    return df_melted\n"
   ]
  },
  {
   "cell_type": "code",
   "execution_count": 61,
   "metadata": {},
   "outputs": [],
   "source": [
    "# Definindo arquivos que serão tratados\n",
    "files = ['Fixed broadband subscriptions', 'Fixed telephone subscriptions', 'GDP', 'Individuals using the Internet', 'Unemployment']"
   ]
  },
  {
   "cell_type": "code",
   "execution_count": 62,
   "metadata": {},
   "outputs": [],
   "source": [
    "# Iterando sobre os arquivos e tratando-os\n",
    "\n",
    "df_final = pd.DataFrame()\n",
    "\n",
    "for file in files:\n",
    "    df = trata_arquivo(file)\n",
    "\n",
    "    if df_final.empty:\n",
    "        # Se df_final estiver vazio, inicializa com o primeiro DataFrame processado\n",
    "        df_final = df\n",
    "    else:\n",
    "        # Mesclar o DataFrame atual com o DataFrame final\n",
    "        df_final = pd.merge(df_final, df, on=['Country Name', 'Year'], how='outer')"
   ]
  },
  {
   "cell_type": "code",
   "execution_count": 63,
   "metadata": {},
   "outputs": [
    {
     "name": "stdout",
     "output_type": "stream",
     "text": [
      "Tratando a coluna Individuals using the Internet\n",
      "Tratando a coluna Unemployment\n",
      "Tratando a coluna Fixed broadband subscriptions\n"
     ]
    }
   ],
   "source": [
    "# Tratando as colunas com porcentagem\n",
    "columns = ['Individuals using the Internet', 'Unemployment', 'Fixed broadband subscriptions']\n",
    "\n",
    "for column in columns:\n",
    "    print('Tratando a coluna', column)\n",
    "    df_final[column] = df_final[column] / 100"
   ]
  },
  {
   "cell_type": "code",
   "execution_count": 64,
   "metadata": {},
   "outputs": [
    {
     "name": "stdout",
     "output_type": "stream",
     "text": [
      "Salvando o arquivo final...\n"
     ]
    }
   ],
   "source": [
    "# Grava o novo DataFrame no formato CSV\n",
    "print('Salvando o arquivo final...')\n",
    "df_final.to_csv(f'data/mercado_livre.csv', sep=',', index=False)"
   ]
  }
 ],
 "metadata": {
  "kernelspec": {
   "display_name": "Python 3",
   "language": "python",
   "name": "python3"
  },
  "language_info": {
   "codemirror_mode": {
    "name": "ipython",
    "version": 3
   },
   "file_extension": ".py",
   "mimetype": "text/x-python",
   "name": "python",
   "nbconvert_exporter": "python",
   "pygments_lexer": "ipython3",
   "version": "3.11.5"
  }
 },
 "nbformat": 4,
 "nbformat_minor": 2
}
